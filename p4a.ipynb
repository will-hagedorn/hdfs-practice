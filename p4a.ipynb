{
 "cells": [
  {
   "cell_type": "code",
   "execution_count": 3,
   "id": "9becebdb-f728-4e82-9f3f-87a676f31964",
   "metadata": {},
   "outputs": [
    {
     "name": "stdout",
     "output_type": "stream",
     "text": [
      "Configured Capacity: 49766334464 (46.35 GB)\n",
      "Present Capacity: 32830218240 (30.58 GB)\n",
      "DFS Remaining: 32830169088 (30.58 GB)\n",
      "DFS Used: 49152 (48 KB)\n",
      "DFS Used%: 0.00%\n",
      "Replicated Blocks:\n",
      "\tUnder replicated blocks: 0\n",
      "\tBlocks with corrupt replicas: 0\n",
      "\tMissing blocks: 0\n",
      "\tMissing blocks (with replication factor 1): 0\n",
      "\tLow redundancy blocks with highest priority to recover: 0\n",
      "\tPending deletion blocks: 0\n",
      "Erasure Coded Block Groups: \n",
      "\tLow redundancy block groups: 0\n",
      "\tBlock groups with corrupt internal blocks: 0\n",
      "\tMissing block groups: 0\n",
      "\tLow redundancy blocks with highest priority to recover: 0\n",
      "\tPending deletion blocks: 0\n",
      "\n",
      "-------------------------------------------------\n",
      "Live datanodes (2):\n",
      "\n",
      "Name: 172.18.0.2:9866 (p4_whagedorn-dn-1.p4_whagedorn_default)\n",
      "Hostname: 2a41e07ddd5d\n",
      "Decommission Status : Normal\n",
      "Configured Capacity: 24883167232 (23.17 GB)\n",
      "DFS Used: 24576 (24 KB)\n",
      "Non DFS Used: 8451280896 (7.87 GB)\n",
      "DFS Remaining: 16415084544 (15.29 GB)\n",
      "DFS Used%: 0.00%\n",
      "DFS Remaining%: 65.97%\n",
      "Configured Cache Capacity: 0 (0 B)\n",
      "Cache Used: 0 (0 B)\n",
      "Cache Remaining: 0 (0 B)\n",
      "Cache Used%: 100.00%\n",
      "Cache Remaining%: 0.00%\n",
      "Xceivers: 0\n",
      "Last contact: Mon Oct 21 02:34:57 GMT 2024\n",
      "Last Block Report: Mon Oct 21 02:34:15 GMT 2024\n",
      "Num of Blocks: 0\n",
      "\n",
      "\n",
      "Name: 172.18.0.5:9866 (p4_whagedorn-dn-2.p4_whagedorn_default)\n",
      "Hostname: c1a5d924c17a\n",
      "Decommission Status : Normal\n",
      "Configured Capacity: 24883167232 (23.17 GB)\n",
      "DFS Used: 24576 (24 KB)\n",
      "Non DFS Used: 8451280896 (7.87 GB)\n",
      "DFS Remaining: 16415084544 (15.29 GB)\n",
      "DFS Used%: 0.00%\n",
      "DFS Remaining%: 65.97%\n",
      "Configured Cache Capacity: 0 (0 B)\n",
      "Cache Used: 0 (0 B)\n",
      "Cache Remaining: 0 (0 B)\n",
      "Cache Used%: 100.00%\n",
      "Cache Remaining%: 0.00%\n",
      "Xceivers: 0\n",
      "Last contact: Mon Oct 21 02:34:57 GMT 2024\n",
      "Last Block Report: Mon Oct 21 02:34:15 GMT 2024\n",
      "Num of Blocks: 0\n",
      "\n",
      "\n"
     ]
    }
   ],
   "source": [
    "#q1\n",
    "!hdfs dfsadmin -fs hdfs://boss:9000 -report"
   ]
  },
  {
   "cell_type": "code",
   "execution_count": 4,
   "id": "138e1166-8831-44c1-abb4-b68a20e7cfda",
   "metadata": {},
   "outputs": [],
   "source": [
    "import os\n",
    "import pyarrow.csv as pa\n",
    "import pyarrow.parquet as pq\n",
    "\n",
    "csv_url = \"https://pages.cs.wisc.edu/~harter/cs544/data/hdma-wi-2021.csv\"\n",
    "csvPath = \"/nb/hdma-wi-2021.csv\"\n",
    "parquetPath = \"/nb/hdma-wi-2021.parquet\"\n",
    "\n",
    "if not os.path.exists(csvPath):\n",
    "    !wget -O {csvPath} {csv_url}\n",
    "\n",
    "df = pa.read_csv(csvPath)\n",
    "pq.write_table(df, parquetPath)"
   ]
  },
  {
   "cell_type": "code",
   "execution_count": 5,
   "id": "3c2bb981-b53c-466e-8d48-753d4d98bd5c",
   "metadata": {},
   "outputs": [
    {
     "name": "stdout",
     "output_type": "stream",
     "text": [
      "2024-10-21 02:35:13,931 INFO hdfs.DFSOutputStream: Exception while adding a block\n",
      "org.apache.hadoop.ipc.RemoteException(org.apache.hadoop.hdfs.server.namenode.NotReplicatedYetException): Not replicated yet: /single.parquet._COPYING_\n",
      "\tat org.apache.hadoop.hdfs.server.namenode.FSDirWriteFileOp.validateAddBlock(FSDirWriteFileOp.java:181)\n",
      "\tat org.apache.hadoop.hdfs.server.namenode.FSNamesystem.getAdditionalBlock(FSNamesystem.java:2977)\n",
      "\tat org.apache.hadoop.hdfs.server.namenode.NameNodeRpcServer.addBlock(NameNodeRpcServer.java:912)\n",
      "\tat org.apache.hadoop.hdfs.protocolPB.ClientNamenodeProtocolServerSideTranslatorPB.addBlock(ClientNamenodeProtocolServerSideTranslatorPB.java:595)\n",
      "\tat org.apache.hadoop.hdfs.protocol.proto.ClientNamenodeProtocolProtos$ClientNamenodeProtocol$2.callBlockingMethod(ClientNamenodeProtocolProtos.java)\n",
      "\tat org.apache.hadoop.ipc.ProtobufRpcEngine2$Server$ProtoBufRpcInvoker.call(ProtobufRpcEngine2.java:621)\n",
      "\tat org.apache.hadoop.ipc.ProtobufRpcEngine2$Server$ProtoBufRpcInvoker.call(ProtobufRpcEngine2.java:589)\n",
      "\tat org.apache.hadoop.ipc.ProtobufRpcEngine2$Server$ProtoBufRpcInvoker.call(ProtobufRpcEngine2.java:573)\n",
      "\tat org.apache.hadoop.ipc.RPC$Server.call(RPC.java:1227)\n",
      "\tat org.apache.hadoop.ipc.Server$RpcCall.run(Server.java:1094)\n",
      "\tat org.apache.hadoop.ipc.Server$RpcCall.run(Server.java:1017)\n",
      "\tat java.base/java.security.AccessController.doPrivileged(Native Method)\n",
      "\tat java.base/javax.security.auth.Subject.doAs(Subject.java:423)\n",
      "\tat org.apache.hadoop.security.UserGroupInformation.doAs(UserGroupInformation.java:1899)\n",
      "\tat org.apache.hadoop.ipc.Server$Handler.run(Server.java:3048)\n",
      "\n",
      "\tat org.apache.hadoop.ipc.Client.getRpcResponse(Client.java:1567)\n",
      "\tat org.apache.hadoop.ipc.Client.call(Client.java:1513)\n",
      "\tat org.apache.hadoop.ipc.Client.call(Client.java:1410)\n",
      "\tat org.apache.hadoop.ipc.ProtobufRpcEngine2$Invoker.invoke(ProtobufRpcEngine2.java:258)\n",
      "\tat org.apache.hadoop.ipc.ProtobufRpcEngine2$Invoker.invoke(ProtobufRpcEngine2.java:139)\n",
      "\tat com.sun.proxy.$Proxy12.addBlock(Unknown Source)\n",
      "\tat org.apache.hadoop.hdfs.protocolPB.ClientNamenodeProtocolTranslatorPB.addBlock(ClientNamenodeProtocolTranslatorPB.java:531)\n",
      "\tat java.base/jdk.internal.reflect.NativeMethodAccessorImpl.invoke0(Native Method)\n",
      "\tat java.base/jdk.internal.reflect.NativeMethodAccessorImpl.invoke(NativeMethodAccessorImpl.java:62)\n",
      "\tat java.base/jdk.internal.reflect.DelegatingMethodAccessorImpl.invoke(DelegatingMethodAccessorImpl.java:43)\n",
      "\tat java.base/java.lang.reflect.Method.invoke(Method.java:566)\n",
      "\tat org.apache.hadoop.io.retry.RetryInvocationHandler.invokeMethod(RetryInvocationHandler.java:433)\n",
      "\tat org.apache.hadoop.io.retry.RetryInvocationHandler$Call.invokeMethod(RetryInvocationHandler.java:166)\n",
      "\tat org.apache.hadoop.io.retry.RetryInvocationHandler$Call.invoke(RetryInvocationHandler.java:158)\n",
      "\tat org.apache.hadoop.io.retry.RetryInvocationHandler$Call.invokeOnce(RetryInvocationHandler.java:96)\n",
      "\tat org.apache.hadoop.io.retry.RetryInvocationHandler.invoke(RetryInvocationHandler.java:362)\n",
      "\tat com.sun.proxy.$Proxy13.addBlock(Unknown Source)\n",
      "\tat org.apache.hadoop.hdfs.DFSOutputStream.addBlock(DFSOutputStream.java:1088)\n",
      "\tat org.apache.hadoop.hdfs.DataStreamer.locateFollowingBlock(DataStreamer.java:1915)\n",
      "\tat org.apache.hadoop.hdfs.DataStreamer.nextBlockOutputStream(DataStreamer.java:1717)\n",
      "\tat org.apache.hadoop.hdfs.DataStreamer.run(DataStreamer.java:713)\n",
      "2024-10-21 02:35:13,943 WARN hdfs.DFSOutputStream: NotReplicatedYetException sleeping /single.parquet._COPYING_ retries left 4\n"
     ]
    }
   ],
   "source": [
    "# Removes existing files\n",
    "!hdfs dfs -rm -f hdfs://boss:9000/single.parquet\n",
    "!hdfs dfs -rm -f hdfs://boss:9000/double.parquet\n",
    "\n",
    "# New files\n",
    "!hdfs dfs -D dfs.block.size=1048576 -D dfs.replication=1 -cp file:///nb/hdma-wi-2021.parquet hdfs://boss:9000/single.parquet\n",
    "!hdfs dfs -D dfs.block.size=1048576 -D dfs.replication=2 -cp file:///nb/hdma-wi-2021.parquet hdfs://boss:9000/double.parquet"
   ]
  },
  {
   "cell_type": "code",
   "execution_count": 6,
   "id": "3933a312-0092-476c-9a53-38647723ed86",
   "metadata": {},
   "outputs": [
    {
     "name": "stdout",
     "output_type": "stream",
     "text": [
      "15.9 M  31.7 M  hdfs://boss:9000/double.parquet\n",
      "15.9 M  15.9 M  hdfs://boss:9000/single.parquet\n"
     ]
    }
   ],
   "source": [
    "#q2\n",
    "!hdfs dfs -du -h hdfs://boss:9000/double.parquet\n",
    "!hdfs dfs -du -h hdfs://boss:9000/single.parquet"
   ]
  },
  {
   "cell_type": "code",
   "execution_count": 7,
   "id": "2289c5f4-f8a9-47ca-83df-aad0506bc236",
   "metadata": {},
   "outputs": [
    {
     "data": {
      "text/plain": [
       "{'FileStatus': {'accessTime': 1729478113248,\n",
       "  'blockSize': 1048576,\n",
       "  'childrenNum': 0,\n",
       "  'fileId': 16386,\n",
       "  'group': 'supergroup',\n",
       "  'length': 16642976,\n",
       "  'modificationTime': 1729478115315,\n",
       "  'owner': 'root',\n",
       "  'pathSuffix': '',\n",
       "  'permission': '644',\n",
       "  'replication': 1,\n",
       "  'storagePolicy': 0,\n",
       "  'type': 'FILE'}}"
      ]
     },
     "execution_count": 7,
     "metadata": {},
     "output_type": "execute_result"
    }
   ],
   "source": [
    "#q3\n",
    "import requests\n",
    "\n",
    "res = requests.get(\"http://boss:9870/webhdfs/v1/single.parquet?op=GETFILESTATUS\")\n",
    "fileStatus = res.json()\n",
    "fileStatus"
   ]
  },
  {
   "cell_type": "code",
   "execution_count": 8,
   "id": "25e31680-48ea-4148-ae8f-4a592abb7270",
   "metadata": {},
   "outputs": [
    {
     "data": {
      "text/plain": [
       "'http://2a41e07ddd5d:9864/webhdfs/v1/single.parquet?op=OPEN&namenoderpcaddress=boss:9000&offset=0'"
      ]
     },
     "execution_count": 8,
     "metadata": {},
     "output_type": "execute_result"
    }
   ],
   "source": [
    "#q4\n",
    "res = requests.get(\"http://boss:9870/webhdfs/v1/single.parquet?op=OPEN&offset=0&noredirect=true\")\n",
    "loc = res.json()[\"Location\"]\n",
    "loc"
   ]
  },
  {
   "cell_type": "code",
   "execution_count": 9,
   "id": "aa46d55d-58b9-411d-8b94-7d6a9bc5d3b6",
   "metadata": {},
   "outputs": [
    {
     "data": {
      "text/plain": [
       "{'2a41e07ddd5d': 6, 'c1a5d924c17a': 10}"
      ]
     },
     "execution_count": 9,
     "metadata": {},
     "output_type": "execute_result"
    }
   ],
   "source": [
    "#q5\n",
    "length = fileStatus[\"FileStatus\"][\"length\"]\n",
    "blockSize = fileStatus[\"FileStatus\"][\"blockSize\"]\n",
    "numBlocks = (length + blockSize - 1) // blockSize\n",
    "\n",
    "dict = {}\n",
    "for i in range(numBlocks):\n",
    "    off = i * blockSize\n",
    "    res = requests.get(f\"http://boss:9870/webhdfs/v1/single.parquet?op=OPEN&offset={off}&noredirect=true\")\n",
    "    loc = res.json()[\"Location\"]\n",
    "\n",
    "    id = loc.split(\"//\")[1].split(\":\")[0]\n",
    "    if id in dict:\n",
    "        dict[id] += 1\n",
    "    else:\n",
    "        dict[id] = 1\n",
    "\n",
    "dict"
   ]
  },
  {
   "cell_type": "code",
   "execution_count": 10,
   "id": "41c42989-49c6-4541-a802-759a1bffccbb",
   "metadata": {},
   "outputs": [
    {
     "data": {
      "text/plain": [
       "{'c1a5d924c17a': 16, '2a41e07ddd5d': 16}"
      ]
     },
     "execution_count": 10,
     "metadata": {},
     "output_type": "execute_result"
    }
   ],
   "source": [
    "#q6\n",
    "res = requests.get(\"http://boss:9870/webhdfs/v1/double.parquet?op=GETFILEBLOCKLOCATIONS\")\n",
    "locations = res.json()[\"BlockLocations\"][\"BlockLocation\"]\n",
    "\n",
    "dict = {}\n",
    "for i in locations:\n",
    "    host1 = i[\"hosts\"][0]\n",
    "    host2 = i[\"hosts\"][1]\n",
    "\n",
    "    if host1 in dict:\n",
    "        dict[host1] += 1\n",
    "    else:\n",
    "        dict[host1] = 1\n",
    "\n",
    "    if host2 in dict:\n",
    "        dict[host2] += 1\n",
    "    else:\n",
    "        dict[host2] = 1\n",
    "\n",
    "dict"
   ]
  },
  {
   "cell_type": "code",
   "execution_count": 22,
   "id": "eb9b6d9d-3b02-42c3-b8f6-30c84c892940",
   "metadata": {},
   "outputs": [
    {
     "data": {
      "text/plain": [
       "(<pyarrow.DoubleScalar: 204961.21752386744>, 0.7812724113464355)"
      ]
     },
     "execution_count": 22,
     "metadata": {},
     "output_type": "execute_result"
    }
   ],
   "source": [
    "#q7\n",
    "import pyarrow as pa\n",
    "import pyarrow.fs\n",
    "import time\n",
    "import pyarrow.compute as pc\n",
    "\n",
    "hdfs = pa.fs.HadoopFileSystem(\"boss\", 9000)\n",
    "\n",
    "start = time.time()\n",
    "\n",
    "with hdfs.open_input_file(\"/double.parquet\") as f:\n",
    "    t = pa.parquet.read_table(f)\n",
    "\n",
    "avgLoan = pc.mean(t[\"loan_amount\"])\n",
    "\n",
    "end = time.time()\n",
    "\n",
    "totalTime1 = end - start\n",
    "\n",
    "avgLoan, totalTime1"
   ]
  },
  {
   "cell_type": "code",
   "execution_count": 23,
   "id": "a41a2086-2ca7-44c3-98e7-df6c3d2d87ff",
   "metadata": {},
   "outputs": [
    {
     "data": {
      "text/plain": [
       "12.956195808177258"
      ]
     },
     "execution_count": 23,
     "metadata": {},
     "output_type": "execute_result"
    }
   ],
   "source": [
    "#q8\n",
    "hdfs = pa.fs.HadoopFileSystem(\"boss\", 9000)\n",
    "\n",
    "start = time.time()\n",
    "\n",
    "with hdfs.open_input_file(\"/double.parquet\") as f:\n",
    "    t = pa.parquet.read_table(f, columns = [\"loan_amount\"])\n",
    "\n",
    "avgLoan = pc.mean(t[\"loan_amount\"])\n",
    "\n",
    "end = time.time()\n",
    "\n",
    "totalTime2 = end - start\n",
    "\n",
    "diff = totalTime1 / totalTime2\n",
    "\n",
    "diff"
   ]
  },
  {
   "cell_type": "code",
   "execution_count": null,
   "id": "b5c93f28-3449-4707-9b58-51d2a689546d",
   "metadata": {},
   "outputs": [],
   "source": []
  }
 ],
 "metadata": {
  "kernelspec": {
   "display_name": "Python 3 (ipykernel)",
   "language": "python",
   "name": "python3"
  },
  "language_info": {
   "codemirror_mode": {
    "name": "ipython",
    "version": 3
   },
   "file_extension": ".py",
   "mimetype": "text/x-python",
   "name": "python",
   "nbconvert_exporter": "python",
   "pygments_lexer": "ipython3",
   "version": "3.10.12"
  }
 },
 "nbformat": 4,
 "nbformat_minor": 5
}

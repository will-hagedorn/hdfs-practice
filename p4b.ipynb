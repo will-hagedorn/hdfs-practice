{
 "cells": [
  {
   "cell_type": "code",
   "execution_count": 2,
   "id": "bbda6dce-f872-45ea-855b-3926258a3385",
   "metadata": {},
   "outputs": [
    {
     "name": "stdout",
     "output_type": "stream",
     "text": [
      "Configured Capacity: 24883167232 (23.17 GB)\n",
      "Present Capacity: 16445440000 (15.32 GB)\n",
      "DFS Remaining: 16419016704 (15.29 GB)\n",
      "DFS Used: 26423296 (25.20 MB)\n",
      "DFS Used%: 0.16%\n",
      "Replicated Blocks:\n",
      "\tUnder replicated blocks: 16\n",
      "\tBlocks with corrupt replicas: 0\n",
      "\tMissing blocks: 7\n",
      "\tMissing blocks (with replication factor 1): 7\n",
      "\tLow redundancy blocks with highest priority to recover: 16\n",
      "\tPending deletion blocks: 0\n",
      "Erasure Coded Block Groups: \n",
      "\tLow redundancy block groups: 0\n",
      "\tBlock groups with corrupt internal blocks: 0\n",
      "\tMissing block groups: 0\n",
      "\tLow redundancy blocks with highest priority to recover: 0\n",
      "\tPending deletion blocks: 0\n",
      "\n",
      "-------------------------------------------------\n",
      "Live datanodes (1):\n",
      "\n",
      "Name: 172.18.0.3:9866 (p4_whagedorn-dn-2.p4_whagedorn_default)\n",
      "Hostname: 04bd9f4ed3ad\n",
      "Decommission Status : Normal\n",
      "Configured Capacity: 24883167232 (23.17 GB)\n",
      "DFS Used: 26423296 (25.20 MB)\n",
      "Non DFS Used: 8420950016 (7.84 GB)\n",
      "DFS Remaining: 16419016704 (15.29 GB)\n",
      "DFS Used%: 0.11%\n",
      "DFS Remaining%: 65.98%\n",
      "Configured Cache Capacity: 0 (0 B)\n",
      "Cache Used: 0 (0 B)\n",
      "Cache Remaining: 0 (0 B)\n",
      "Cache Used%: 100.00%\n",
      "Cache Remaining%: 0.00%\n",
      "Xceivers: 0\n",
      "Last contact: Mon Oct 21 01:41:45 GMT 2024\n",
      "Last Block Report: Sun Oct 20 20:47:32 GMT 2024\n",
      "Num of Blocks: 25\n",
      "\n",
      "\n",
      "Dead datanodes (1):\n",
      "\n",
      "Name: 172.18.0.5:9866 (172.18.0.5)\n",
      "Hostname: dee649620151\n",
      "Decommission Status : Normal\n",
      "Configured Capacity: 24883167232 (23.17 GB)\n",
      "DFS Used: 24166400 (23.05 MB)\n",
      "Non DFS Used: 8423149568 (7.84 GB)\n",
      "DFS Remaining: 16419074048 (15.29 GB)\n",
      "DFS Used%: 0.10%\n",
      "DFS Remaining%: 65.98%\n",
      "Configured Cache Capacity: 0 (0 B)\n",
      "Cache Used: 0 (0 B)\n",
      "Cache Remaining: 0 (0 B)\n",
      "Cache Used%: 100.00%\n",
      "Cache Remaining%: 0.00%\n",
      "Xceivers: 0\n",
      "Last contact: Mon Oct 21 01:38:27 GMT 2024\n",
      "Last Block Report: Sun Oct 20 23:17:59 GMT 2024\n",
      "Num of Blocks: 0\n",
      "\n",
      "\n"
     ]
    }
   ],
   "source": [
    "#q9\n",
    "!hdfs dfsadmin -fs hdfs://boss:9000 -report"
   ]
  },
  {
   "cell_type": "code",
   "execution_count": 16,
   "id": "0c079f9f-16d4-4aa9-9151-aa0133d9a585",
   "metadata": {},
   "outputs": [
    {
     "data": {
      "text/plain": [
       "7"
      ]
     },
     "execution_count": 16,
     "metadata": {},
     "output_type": "execute_result"
    }
   ],
   "source": [
    "#q10\n",
    "import requests\n",
    "\n",
    "res = requests.get(\"http://boss:9870/webhdfs/v1/single.parquet?op=GETFILEBLOCKLOCATIONS\")\n",
    "locations = res.json()[\"BlockLocations\"][\"BlockLocation\"]\n",
    "\n",
    "count = 0;\n",
    "for i in locations:\n",
    "    id = i[\"hosts\"]\n",
    "\n",
    "    if len(id) == 0:\n",
    "        count += 1\n",
    "\n",
    "count"
   ]
  },
  {
   "cell_type": "code",
   "execution_count": null,
   "id": "3cc51f56-4f2a-459c-a089-4fbc55625073",
   "metadata": {},
   "outputs": [],
   "source": []
  }
 ],
 "metadata": {
  "kernelspec": {
   "display_name": "Python 3 (ipykernel)",
   "language": "python",
   "name": "python3"
  },
  "language_info": {
   "codemirror_mode": {
    "name": "ipython",
    "version": 3
   },
   "file_extension": ".py",
   "mimetype": "text/x-python",
   "name": "python",
   "nbconvert_exporter": "python",
   "pygments_lexer": "ipython3",
   "version": "3.10.12"
  }
 },
 "nbformat": 4,
 "nbformat_minor": 5
}
